{
 "cells": [
  {
   "cell_type": "markdown",
   "metadata": {},
   "source": [
    "# North and West Yorkshire Crime Map\n",
    "The following notebook uses Folium Maps and crime data from https://data.police.uk/data/ to vizualise crimes for the North and West Yorkshire areas of the United Kingdom."
   ]
  },
  {
   "cell_type": "code",
   "execution_count": 3,
   "metadata": {},
   "outputs": [],
   "source": [
    "import numpy as np\n",
    "import pandas as pd\n",
    "import folium\n",
    "from folium import plugins"
   ]
  },
  {
   "cell_type": "markdown",
   "metadata": {},
   "source": [
    "Let's first read the data into a DataFrame, dropping any unnecessary columns along the way."
   ]
  },
  {
   "cell_type": "code",
   "execution_count": 12,
   "metadata": {},
   "outputs": [],
   "source": [
    "# North Yorkshire Crime Data\n",
    "n_yorks_data = pd.read_csv('2019-01-north-yorkshire-street.csv', usecols=['Longitude', 'Latitude', 'Crime type'])\n",
    "\n",
    "# West Yorkshire Crime Data\n",
    "w_yorks_data = pd.read_csv('2019-01-west-yorkshire-street.csv', usecols=['Longitude', 'Latitude', 'Crime type'])"
   ]
  },
  {
   "cell_type": "markdown",
   "metadata": {},
   "source": [
    "Now join both datasets and do some cleaning."
   ]
  },
  {
   "cell_type": "code",
   "execution_count": 14,
   "metadata": {},
   "outputs": [],
   "source": [
    "# Join both datasets, remove null locations and rename columns\n",
    "data = pd.concat([n_yorks_data, w_yorks_data])\n",
    "data = data[data['Longitude'].notnull()]\n",
    "data.rename(columns={'Latitude': 'lat', 'Longitude':'long', 'Crime type': 'type'}, inplace=True)"
   ]
  },
  {
   "cell_type": "markdown",
   "metadata": {},
   "source": [
    "Check how many rows there are."
   ]
  },
  {
   "cell_type": "code",
   "execution_count": 23,
   "metadata": {},
   "outputs": [
    {
     "data": {
      "text/plain": [
       "(32447, 3)"
      ]
     },
     "execution_count": 23,
     "metadata": {},
     "output_type": "execute_result"
    }
   ],
   "source": [
    "data.shape"
   ]
  },
  {
   "cell_type": "markdown",
   "metadata": {},
   "source": [
    "Take a quick look at the data."
   ]
  },
  {
   "cell_type": "code",
   "execution_count": 24,
   "metadata": {},
   "outputs": [
    {
     "data": {
      "text/html": [
       "<div>\n",
       "<style scoped>\n",
       "    .dataframe tbody tr th:only-of-type {\n",
       "        vertical-align: middle;\n",
       "    }\n",
       "\n",
       "    .dataframe tbody tr th {\n",
       "        vertical-align: top;\n",
       "    }\n",
       "\n",
       "    .dataframe thead th {\n",
       "        text-align: right;\n",
       "    }\n",
       "</style>\n",
       "<table border=\"1\" class=\"dataframe\">\n",
       "  <thead>\n",
       "    <tr style=\"text-align: right;\">\n",
       "      <th></th>\n",
       "      <th>long</th>\n",
       "      <th>lat</th>\n",
       "      <th>type</th>\n",
       "    </tr>\n",
       "  </thead>\n",
       "  <tbody>\n",
       "    <tr>\n",
       "      <th>0</th>\n",
       "      <td>-2.532175</td>\n",
       "      <td>54.144623</td>\n",
       "      <td>Burglary</td>\n",
       "    </tr>\n",
       "    <tr>\n",
       "      <th>1</th>\n",
       "      <td>-2.546581</td>\n",
       "      <td>54.119061</td>\n",
       "      <td>Drugs</td>\n",
       "    </tr>\n",
       "    <tr>\n",
       "      <th>2</th>\n",
       "      <td>-2.535820</td>\n",
       "      <td>54.118606</td>\n",
       "      <td>Violence and sexual offences</td>\n",
       "    </tr>\n",
       "    <tr>\n",
       "      <th>3</th>\n",
       "      <td>-2.546581</td>\n",
       "      <td>54.119061</td>\n",
       "      <td>Violence and sexual offences</td>\n",
       "    </tr>\n",
       "    <tr>\n",
       "      <th>4</th>\n",
       "      <td>-2.513450</td>\n",
       "      <td>54.119665</td>\n",
       "      <td>Anti-social behaviour</td>\n",
       "    </tr>\n",
       "  </tbody>\n",
       "</table>\n",
       "</div>"
      ],
      "text/plain": [
       "       long        lat                          type\n",
       "0 -2.532175  54.144623                      Burglary\n",
       "1 -2.546581  54.119061                         Drugs\n",
       "2 -2.535820  54.118606  Violence and sexual offences\n",
       "3 -2.546581  54.119061  Violence and sexual offences\n",
       "4 -2.513450  54.119665         Anti-social behaviour"
      ]
     },
     "execution_count": 24,
     "metadata": {},
     "output_type": "execute_result"
    }
   ],
   "source": [
    "data.head()"
   ]
  },
  {
   "cell_type": "markdown",
   "metadata": {},
   "source": [
    "Now to plot the data on a Folium Map"
   ]
  },
  {
   "cell_type": "code",
   "execution_count": null,
   "metadata": {},
   "outputs": [],
   "source": [
    "# Init Folium Map\n",
    "map = folium.Map(location=[54.0822613, -1.3034897], zoom_start=8)\n",
    "\n",
    "# Init a feature group for the incidents in the dataframe\n",
    "incidents = folium.map.FeatureGroup()\n",
    "\n",
    "# Init a mark cluster object for the incidents in the dataframe\n",
    "incidents = plugins.MarkerCluster().add_to(map)\n",
    "\n",
    "# Loop through the dataframe and add each data point to the mark cluster\n",
    "for lat, lng, label, in zip(data.lat, data.long, data.type):\n",
    "    folium.Marker(\n",
    "        location=[lat, lng],\n",
    "        icon=None,\n",
    "        popup=label,\n",
    "    ).add_to(incidents)\n",
    "\n",
    "# Add incidents to map\n",
    "map.add_child(incidents)"
   ]
  },
  {
   "cell_type": "markdown",
   "metadata": {},
   "source": [
    "Save the map to a HTML file."
   ]
  },
  {
   "cell_type": "code",
   "execution_count": null,
   "metadata": {},
   "outputs": [],
   "source": [
    "map.save('ny_wy_map.html')"
   ]
  }
 ],
 "metadata": {
  "kernelspec": {
   "display_name": "Python 3",
   "language": "python",
   "name": "python3"
  },
  "language_info": {
   "codemirror_mode": {
    "name": "ipython",
    "version": 3
   },
   "file_extension": ".py",
   "mimetype": "text/x-python",
   "name": "python",
   "nbconvert_exporter": "python",
   "pygments_lexer": "ipython3",
   "version": "3.7.2"
  }
 },
 "nbformat": 4,
 "nbformat_minor": 2
}
