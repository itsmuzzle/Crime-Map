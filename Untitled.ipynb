{
 "cells": [
  {
   "cell_type": "code",
   "execution_count": 3,
   "metadata": {},
   "outputs": [],
   "source": [
    "import numpy as np\n",
    "import pandas as pd\n",
    "import folium\n",
    "from folium import plugins"
   ]
  },
  {
   "cell_type": "code",
   "execution_count": 9,
   "metadata": {},
   "outputs": [],
   "source": [
    "# North Yorkshire Crime Data\n",
    "n_yorks_data = pd.read_csv('2019-01-north-yorkshire-street.csv', usecols=['Longitude', 'Latitude', 'Crime type'])\n",
    "\n",
    "# West Yorkshire Crime Data\n",
    "w_yorks_data = pd.read_csv('2019-01-west-yorkshire-street.csv', usecols=['Longitude', 'Latitude', 'Crime type'])\n",
    "\n",
    "# Join both datasets, remove null locations and rename columns\n",
    "data = pd.concat([n_yorks_data, w_yorks_data])\n",
    "data = data[data['Longitude'].notnull()]\n",
    "data.rename(columns={'Latitude': 'lat', 'Longitude':'long', 'Crime type': 'type'}, inplace=True)\n",
    "\n",
    "# Init Folium Map\n",
    "map = folium.Map(location=[54.0822613, -1.3034897], zoom_start=8)\n",
    "\n",
    "# Init a feature group for the incidents in the dataframe\n",
    "incidents = folium.map.FeatureGroup()\n",
    "\n",
    "# Init a mark cluster object for the incidents in the dataframe\n",
    "incidents = plugins.MarkerCluster().add_to(map)\n",
    "\n",
    "# Loop through the dataframe and add each data point to the mark cluster\n",
    "for lat, lng, label, in zip(data.lat, data.long, data.type):\n",
    "    folium.Marker(\n",
    "        location=[lat, lng],\n",
    "        icon=None,\n",
    "        popup=label,\n",
    "    ).add_to(incidents)\n",
    "\n",
    "# Add incidents to map\n",
    "map.add_child(incidents)\n",
    "\n",
    "# Save the map to a HTML file\n",
    "map.save('ny_wy_map.html')"
   ]
  },
  {
   "cell_type": "code",
   "execution_count": null,
   "metadata": {},
   "outputs": [],
   "source": []
  }
 ],
 "metadata": {
  "kernelspec": {
   "display_name": "Python 3",
   "language": "python",
   "name": "python3"
  },
  "language_info": {
   "codemirror_mode": {
    "name": "ipython",
    "version": 3
   },
   "file_extension": ".py",
   "mimetype": "text/x-python",
   "name": "python",
   "nbconvert_exporter": "python",
   "pygments_lexer": "ipython3",
   "version": "3.7.1"
  }
 },
 "nbformat": 4,
 "nbformat_minor": 2
}
